{
 "cells": [
  {
   "cell_type": "markdown",
   "metadata": {
    "id": "ZY1Zbo3uUkXg"
   },
   "source": [
    "# 1. Preparations\n",
    "Before start, make sure that you choose\n",
    "* Runtime Type = Python 3\n",
    "* Hardware Accelerator = GPU\n",
    "\n",
    "in the **Runtime** menu -> **Change runtime type**\n",
    "\n",
    "Then, we clone the repository, set up the envrironment, and download the pre-trained model.\n"
   ]
  },
  {
   "cell_type": "code",
   "execution_count": null,
   "metadata": {
    "colab": {
     "base_uri": "https://localhost:8080/"
    },
    "collapsed": true,
    "executionInfo": {
     "elapsed": 105883,
     "status": "ok",
     "timestamp": 1739137274867,
     "user": {
      "displayName": "Harrysof",
      "userId": "04779887326995318904"
     },
     "user_tz": -60
    },
    "id": "ZwH2ifWEYEfJ",
    "outputId": "3840fb5b-9a12-4723-d5b0-77fc78316da2"
   },
   "outputs": [],
   "source": [
    "%cd /content\n",
    "!rm -rf GFPGAN\n",
    "!git clone https://github.com/TencentARC/GFPGAN.git\n",
    "%cd GFPGAN\n",
    "!pip install basicsr\n",
    "!pip install facexlib\n",
    "!pip install -r requirements.txt\n",
    "!python setup.py develop\n",
    "!pip install realesrgan\n",
    "!wget https://github.com/TencentARC/GFPGAN/releases/download/v1.3.0/GFPGANv1.3.pth -P experiments/pretrained_models\n",
    "!pip uninstall torch xformers -y\n",
    "!python -m pip install torch==2.0.1 torchvision==0.15.2 --extra-index-url https://download.pytorch.org/whl/cu118 xformers==0.0.21"
   ]
  },
  {
   "cell_type": "code",
   "execution_count": null,
   "metadata": {
    "colab": {
     "base_uri": "https://localhost:8080/"
    },
    "executionInfo": {
     "elapsed": 121,
     "status": "ok",
     "timestamp": 1739137410357,
     "user": {
      "displayName": "Harrysof",
      "userId": "04779887326995318904"
     },
     "user_tz": -60
    },
    "id": "4F1MTBIpBvWU",
    "outputId": "397b4501-d89f-4cd2-96f5-5380d5147543"
   },
   "outputs": [],
   "source": [
    "!ls -laSh experiments/pretrained_models/"
   ]
  },
  {
   "cell_type": "markdown",
   "metadata": {
    "id": "U-8JxpPwg4Xz"
   },
   "source": [
    "# 2. Upload Images / Use the demo images"
   ]
  },
  {
   "cell_type": "code",
   "execution_count": null,
   "metadata": {
    "colab": {
     "base_uri": "https://localhost:8080/",
     "height": 91
    },
    "executionInfo": {
     "elapsed": 4691,
     "status": "ok",
     "timestamp": 1739137457626,
     "user": {
      "displayName": "Harrysof",
      "userId": "04779887326995318904"
     },
     "user_tz": -60
    },
    "id": "CdMZYp0T7NAy",
    "outputId": "66f1029b-3a73-4012-9e1a-7b742cba7d6f"
   },
   "outputs": [],
   "source": [
    "# Upload your own images\n",
    "import os\n",
    "from google.colab import files\n",
    "import shutil\n",
    "\n",
    "upload_folder = 'inputs/upload'\n",
    "\n",
    "# Create parent directory if it doesn't exist\n",
    "os.makedirs('inputs', exist_ok=True)\n",
    "\n",
    "# Remove and recreate upload folder\n",
    "if os.path.isdir(upload_folder):\n",
    "    shutil.rmtree(upload_folder)\n",
    "os.makedirs(upload_folder)\n",
    "\n",
    "# Upload images\n",
    "uploaded = files.upload()\n",
    "for filename in uploaded.keys():\n",
    "    dst_path = os.path.join(upload_folder, filename)\n",
    "    print(f'move {filename} to {dst_path}')\n",
    "    shutil.move(filename, dst_path)"
   ]
  },
  {
   "cell_type": "markdown",
   "metadata": {
    "id": "lGHc73Up70ZA"
   },
   "source": [
    "## 3. Inference"
   ]
  },
  {
   "cell_type": "code",
   "execution_count": null,
   "metadata": {
    "colab": {
     "base_uri": "https://localhost:8080/"
    },
    "collapsed": true,
    "executionInfo": {
     "elapsed": 8526,
     "status": "ok",
     "timestamp": 1739137469175,
     "user": {
      "displayName": "Harrysof",
      "userId": "04779887326995318904"
     },
     "user_tz": -60
    },
    "id": "lmQVC3s97z4z",
    "outputId": "f47c5c02-fbcd-401a-f58c-85715f65703b"
   },
   "outputs": [],
   "source": [
    "!rm -rf results\n",
    "!python inference_gfpgan.py -i inputs/upload -o results -v 1.3 -s 2 --bg_upsampler realesrgan\n",
    "\n",
    "# Usage: python inference_gfpgan.py -i inputs/whole_imgs -o results -v 1.3 -s 2 [options]...\n",
    "#\n",
    "#  -h                   show this help\n",
    "#  -i input             Input image or folder. Default: inputs/whole_imgs\n",
    "#  -o output            Output folder. Default: results\n",
    "#  -v version           GFPGAN model version. Option: 1 | 1.2 | 1.3. Default: 1.3\n",
    "#  -s upscale           The final upsampling scale of the image. Default: 2\n",
    "#  -bg_upsampler        background upsampler. Default: realesrgan\n",
    "#  -bg_tile             Tile size for background sampler, 0 for no tile during testing. Default: 400\n",
    "#  -suffix              Suffix of the restored faces\n",
    "#  -only_center_face    Only restore the center face\n",
    "#  -aligned             Input are aligned faces\n",
    "#  -ext                 Image extension. Options: auto | jpg | png, auto means using the same extension as inputs. Default: auto\n",
    "\n",
    "!ls results/cmp"
   ]
  },
  {
   "cell_type": "markdown",
   "metadata": {
    "id": "vkF8VAiF7-PY"
   },
   "source": [
    "## 4. Visualize"
   ]
  },
  {
   "cell_type": "code",
   "execution_count": null,
   "metadata": {
    "colab": {
     "base_uri": "https://localhost:8080/",
     "height": 1000
    },
    "executionInfo": {
     "elapsed": 4638,
     "status": "ok",
     "timestamp": 1739137476355,
     "user": {
      "displayName": "Harrysof",
      "userId": "04779887326995318904"
     },
     "user_tz": -60
    },
    "id": "tIeL_NJO8A3B",
    "outputId": "32abc63b-7584-4d1a-8719-32020f974d5c"
   },
   "outputs": [],
   "source": [
    "# We first visualize the cropped faces\n",
    "# The left are the inputs images; the right are the results of GFPGAN\n",
    "\n",
    "import cv2\n",
    "import matplotlib.pyplot as plt\n",
    "def display(img1, img2):\n",
    "  fig = plt.figure(figsize=(25, 10))\n",
    "  ax1 = fig.add_subplot(1, 2, 1)\n",
    "  plt.title('Input image', fontsize=16)\n",
    "  ax1.axis('off')\n",
    "  ax2 = fig.add_subplot(1, 2, 2)\n",
    "  plt.title('GFPGAN output', fontsize=16)\n",
    "  ax2.axis('off')\n",
    "  ax1.imshow(img1)\n",
    "  ax2.imshow(img2)\n",
    "def imread(img_path):\n",
    "  img = cv2.imread(img_path)\n",
    "  img = cv2.cvtColor(img, cv2.COLOR_BGR2RGB)\n",
    "  return img\n",
    "\n",
    "# display each image in the upload folder\n",
    "import os\n",
    "import glob\n",
    "\n",
    "input_folder = 'results/cropped_faces'\n",
    "result_folder = 'results/restored_faces'\n",
    "input_list = sorted(glob.glob(os.path.join(input_folder, '*')))\n",
    "output_list = sorted(glob.glob(os.path.join(result_folder, '*')))\n",
    "for input_path, output_path in zip(input_list, output_list):\n",
    "  img_input = imread(input_path)\n",
    "  img_output = imread(output_path)\n",
    "  display(img_input, img_output)\n"
   ]
  },
  {
   "cell_type": "code",
   "execution_count": null,
   "metadata": {
    "colab": {
     "base_uri": "https://localhost:8080/",
     "height": 426
    },
    "executionInfo": {
     "elapsed": 2610,
     "status": "ok",
     "timestamp": 1739137483343,
     "user": {
      "displayName": "Harrysof",
      "userId": "04779887326995318904"
     },
     "user_tz": -60
    },
    "id": "Jn_2ylqP9qXY",
    "outputId": "8e6fd54d-8bc5-4e09-d890-8f12fa04c8b9"
   },
   "outputs": [],
   "source": [
    "# We then visualize the whole image\n",
    "# The left are the inputs images; the right are the results of GFPGAN\n",
    "\n",
    "import cv2\n",
    "import matplotlib.pyplot as plt\n",
    "def display(img1, img2):\n",
    "  fig = plt.figure(figsize=(25, 10))\n",
    "  ax1 = fig.add_subplot(1, 2, 1)\n",
    "  plt.title('Input image', fontsize=16)\n",
    "  ax1.axis('off')\n",
    "  ax2 = fig.add_subplot(1, 2, 2)\n",
    "  plt.title('GFPGAN output', fontsize=16)\n",
    "  ax2.axis('off')\n",
    "  ax1.imshow(img1)\n",
    "  ax2.imshow(img2)\n",
    "def imread(img_path):\n",
    "  img = cv2.imread(img_path)\n",
    "  img = cv2.cvtColor(img, cv2.COLOR_BGR2RGB)\n",
    "  return img\n",
    "\n",
    "# display each image in the upload folder\n",
    "import os\n",
    "import glob\n",
    "\n",
    "input_folder = 'inputs/upload'\n",
    "result_folder = 'results/restored_imgs'\n",
    "input_list = sorted(glob.glob(os.path.join(input_folder, '*')))\n",
    "output_list = sorted(glob.glob(os.path.join(result_folder, '*')))\n",
    "for input_path, output_path in zip(input_list, output_list):\n",
    "  img_input = imread(input_path)\n",
    "  img_output = imread(output_path)\n",
    "  display(img_input, img_output)"
   ]
  },
  {
   "cell_type": "markdown",
   "metadata": {
    "id": "HR7VEBEb8slX"
   },
   "source": [
    "## 5. Download results"
   ]
  },
  {
   "cell_type": "code",
   "execution_count": null,
   "metadata": {
    "colab": {
     "base_uri": "https://localhost:8080/",
     "height": 53
    },
    "collapsed": true,
    "executionInfo": {
     "elapsed": 246,
     "status": "ok",
     "timestamp": 1739137489894,
     "user": {
      "displayName": "Harrysof",
      "userId": "04779887326995318904"
     },
     "user_tz": -60
    },
    "id": "zuBCgeH08tdn",
    "outputId": "6ead709e-80cd-4883-e7a9-46e6d842e674"
   },
   "outputs": [],
   "source": [
    "from google.colab import files\n",
    "# download the result\n",
    "!ls results\n",
    "print('Download results')\n",
    "os.system('zip -r download.zip results')\n",
    "files.download(\"download.zip\")"
   ]
  }
 ],
 "metadata": {
  "accelerator": "GPU",
  "colab": {
   "gpuType": "T4",
   "provenance": [
    {
     "file_id": "https://github.com/fum-cs/dl/blob/main/code/GAN/GFPGAN_inference.ipynb",
     "timestamp": 1739136202878
    }
   ]
  },
  "kernelspec": {
   "display_name": "Python 3",
   "name": "python3"
  },
  "language_info": {
   "codemirror_mode": {
    "name": "ipython",
    "version": 3
   },
   "file_extension": ".py",
   "mimetype": "text/x-python",
   "name": "python",
   "nbconvert_exporter": "python",
   "pygments_lexer": "ipython3",
   "version": "3.10.4"
  }
 },
 "nbformat": 4,
 "nbformat_minor": 0
}
